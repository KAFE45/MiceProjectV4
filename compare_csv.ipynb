{
 "cells": [
  {
   "cell_type": "code",
   "execution_count": 282,
   "metadata": {},
   "outputs": [],
   "source": [
    "import os\n",
    "import pandas as pd\n",
    "import cv2\n",
    "\n",
    "deleted_range = []\n",
    "right_side = []\n",
    "\n",
    "def render_ui_frame_id(frame, frame_id, frame_total):\n",
    "    cv2.rectangle(frame, (10, 5), (400, 35), (0,0,0), -1)\n",
    "    cv2.putText(frame, f'{frame_total} : {frame_id}', (10, 30), cv2.FONT_HERSHEY_SIMPLEX, 1, (0, 255, 0), 2, cv2.LINE_AA)\n",
    "\n",
    "def render_index(frame,current_idx,total_idx):\n",
    "    cv2.putText(frame, f'{current_idx}/{total_idx}', (10, 350), cv2.FONT_HERSHEY_SIMPLEX, 1, (255, 255, 255), 2, cv2.LINE_AA)\n",
    "\n",
    "def show_vdo(_ep_id):\n",
    "    session_id = vdo_file[:16] + r'_scaled'\n",
    "    episode_path = _ep_id\n",
    "    print(episode_path)\n",
    "    df = pd.read_csv(episode_path, usecols=['start', 'end'])\n",
    "    df_list = df.values.tolist()\n",
    "    video_path = os.path.join(os.path.join(os.getcwd(), 'Dataset'), f\"{session_id}.MOV\")\n",
    "    # print(video_path)\n",
    "    capture_handler = cv2.VideoCapture(video_path)\n",
    "    if not capture_handler.isOpened():\n",
    "        print(f\"Error: Unable to open the video file {video_path}\")\n",
    "        exit()\n",
    "    # Get the total frame of the video%\n",
    "    frame_total = int(capture_handler.get(cv2.CAP_PROP_FRAME_COUNT))\n",
    "    # Define the window name, also use it as tag for using in CV\n",
    "    window_name = f\"{session_id} - mICE Video Marker\"\n",
    "    # Create a window\n",
    "    cv2.namedWindow(window_name, cv2.WINDOW_NORMAL)\n",
    "    frame_id_current = 0\n",
    "    saved_frame = None\n",
    "    flag_pause = True\n",
    "    is_on_seeking = False\n",
    "    cnt_episode_frame = 0\n",
    "    flag = True\n",
    "    total_index = len(df_list)\n",
    "    while flag ==True:\n",
    "        try:\n",
    "        # Check if the video is paused, if so, then keep playing the current frame\n",
    "            if is_on_seeking:\n",
    "                 if flag_is_set_marker_founded:\n",
    "                    is_on_seeking = False\n",
    "                    flag_is_set_marker_founded = False\n",
    "                    flag_pause = True\n",
    "                    saved_frame = None\n",
    "                    capture_handler.set(cv2.CAP_PROP_POS_FRAMES, frame_id_current)\n",
    "            if flag_pause:\n",
    "                if saved_frame is None:\n",
    "                    ret, saved_frame = capture_handler.read()\n",
    "                frame = saved_frame.copy()\n",
    "            else:\n",
    "                ret, frame = capture_handler.read()\n",
    "            frame_id_current = int(capture_handler.get(cv2.CAP_PROP_POS_FRAMES)) - 1\n",
    "            # Render frame info\n",
    "            render_ui_frame_id(frame, frame_id_current, frame_total)\n",
    "            render_index(frame,cnt_episode_frame,total_index-1)\n",
    "            # Display the frame\n",
    "            cv2.imshow(window_name, frame)\n",
    "            # Wait for a key press, q to exit, space to start/stop the video (keep playing current frame)\n",
    "            key = cv2.waitKey(1) & 0xFF\n",
    "            if key in [ord('q'),ord('Q')]:\n",
    "                cv2.destroyAllWindows()\n",
    "                flag = False\n",
    "            elif key in [ord('R'),ord('r'),ord('d'),ord('D'),ord(' '),ord('Z'),ord('z'),ord('x'),ord('v'),ord('b'),ord('n'),ord ('m'),ord('e'),ord('E'),ord('w'),ord('W'),ord('t'),ord('T'),ord('y'),ord('Y')]:\n",
    "                if key == ord(' '):\n",
    "                    is_on_seeking = False\n",
    "                    if flag_pause:\n",
    "                        flag_pause = False\n",
    "                        saved_frame = None\n",
    "                    else:\n",
    "                        flag_pause = True\n",
    "                    frame_id_current = int(capture_handler.get(cv2.CAP_PROP_POS_FRAMES)) - 1\n",
    "                if key==ord('r') or key==ord('R'):\n",
    "                    cnt_episode_frame -=1\n",
    "                    frame_id_current = df_list[cnt_episode_frame][0] \n",
    "                if key==ord('d') or key==ord('D'):\n",
    "                    cnt_episode_frame +=1\n",
    "                    frame_id_current = df_list[cnt_episode_frame][0] \n",
    "                    if cnt_episode_frame >= frame_total:\n",
    "                        cnt_episode_frame = frame_total\n",
    "\n",
    "                if key==ord('e') or key==ord('E'):\n",
    "                    if(frame_id_current!=df_list[cnt_episode_frame][0]):\n",
    "                        frame_id_current = df_list[cnt_episode_frame][0]\n",
    "                    deleted_range.append(frame_id_current)\n",
    "                    print(deleted_range[-1])\n",
    "                if key==ord('w') or key==ord('W'):\n",
    "                    del deleted_range[-1]\n",
    "                    for i in range(0, len(deleted_range), 10):\n",
    "                        print(*deleted_range[i:i+10])\n",
    "                if key==ord('t') or key==ord('T'):\n",
    "                    if(frame_id_current!=df_list[cnt_episode_frame][0]):\n",
    "                        frame_id_current = df_list[cnt_episode_frame][0]\n",
    "                    right_side.append(frame_id_current)\n",
    "                    print(right_side)\n",
    "                if key==ord('y') or key==ord('Y'):\n",
    "                    del right_side[-1]\n",
    "                    print(right_side)\n",
    "                if key == ord('Z'):\n",
    "                    frame_id_current = 0\n",
    "                if key == ord('z'):\n",
    "                    frame_id_current -= 240\n",
    "                if key == ord('x'):\n",
    "                    frame_id_current -= 1\n",
    "                if key == ord('v'):\n",
    "                    frame_id_current += 1\n",
    "                if key == ord('b'):\n",
    "                    frame_id_current += 240\n",
    "                if key == ord('n'):\n",
    "                    frame_id_current += 120\n",
    "                if key == ord('m'):\n",
    "                    frame_id_current += 500\n",
    "                capture_handler.set(cv2.CAP_PROP_POS_FRAMES, frame_id_current)\n",
    "                saved_frame = None\n",
    "        except Exception as e:\n",
    "            print(f\"Error in {e}\")\n",
    "            continue\n",
    "        "
   ]
  },
  {
   "cell_type": "code",
   "execution_count": 283,
   "metadata": {},
   "outputs": [
    {
     "name": "stdout",
     "output_type": "stream",
     "text": [
      "./g5_left_unclean\\no_right_0b27065b15a4300c_scaledDLC_mobnet_100_y79Jun20shuffle1_10000_episodes.csv\n"
     ]
    },
    {
     "ename": "FileNotFoundError",
     "evalue": "[Errno 2] No such file or directory: './g5_left_output_episodes\\\\left_0b27065b15a4300c_scaledDLC_mobnet_100_y79Jun20shuffle1_10000_episodes.csv'",
     "output_type": "error",
     "traceback": [
      "\u001b[1;31m---------------------------------------------------------------------------\u001b[0m",
      "\u001b[1;31mFileNotFoundError\u001b[0m                         Traceback (most recent call last)",
      "Cell \u001b[1;32mIn[283], line 26\u001b[0m\n\u001b[0;32m     24\u001b[0m vdo_file \u001b[38;5;241m=\u001b[39m file\n\u001b[0;32m     25\u001b[0m right_ep_df \u001b[38;5;241m=\u001b[39m pd\u001b[38;5;241m.\u001b[39mread_csv(right_ep_filename)\n\u001b[1;32m---> 26\u001b[0m left_ep_df \u001b[38;5;241m=\u001b[39m \u001b[43mpd\u001b[49m\u001b[38;5;241;43m.\u001b[39;49m\u001b[43mread_csv\u001b[49m\u001b[43m(\u001b[49m\u001b[43mleft_ep_filename\u001b[49m\u001b[43m)\u001b[49m\n\u001b[0;32m     27\u001b[0m \u001b[38;5;28;01mif\u001b[39;00m \u001b[38;5;129;01mnot\u001b[39;00m no_cr_ep:\n\u001b[0;32m     28\u001b[0m     clean_right_ep_df \u001b[38;5;241m=\u001b[39m pd\u001b[38;5;241m.\u001b[39mread_csv(cr_ep_filename)\n",
      "File \u001b[1;32mc:\\Users\\mice\\.conda\\envs\\mice-videomarker\\Lib\\site-packages\\pandas\\io\\parsers\\readers.py:1026\u001b[0m, in \u001b[0;36mread_csv\u001b[1;34m(filepath_or_buffer, sep, delimiter, header, names, index_col, usecols, dtype, engine, converters, true_values, false_values, skipinitialspace, skiprows, skipfooter, nrows, na_values, keep_default_na, na_filter, verbose, skip_blank_lines, parse_dates, infer_datetime_format, keep_date_col, date_parser, date_format, dayfirst, cache_dates, iterator, chunksize, compression, thousands, decimal, lineterminator, quotechar, quoting, doublequote, escapechar, comment, encoding, encoding_errors, dialect, on_bad_lines, delim_whitespace, low_memory, memory_map, float_precision, storage_options, dtype_backend)\u001b[0m\n\u001b[0;32m   1013\u001b[0m kwds_defaults \u001b[38;5;241m=\u001b[39m _refine_defaults_read(\n\u001b[0;32m   1014\u001b[0m     dialect,\n\u001b[0;32m   1015\u001b[0m     delimiter,\n\u001b[1;32m   (...)\u001b[0m\n\u001b[0;32m   1022\u001b[0m     dtype_backend\u001b[38;5;241m=\u001b[39mdtype_backend,\n\u001b[0;32m   1023\u001b[0m )\n\u001b[0;32m   1024\u001b[0m kwds\u001b[38;5;241m.\u001b[39mupdate(kwds_defaults)\n\u001b[1;32m-> 1026\u001b[0m \u001b[38;5;28;01mreturn\u001b[39;00m \u001b[43m_read\u001b[49m\u001b[43m(\u001b[49m\u001b[43mfilepath_or_buffer\u001b[49m\u001b[43m,\u001b[49m\u001b[43m \u001b[49m\u001b[43mkwds\u001b[49m\u001b[43m)\u001b[49m\n",
      "File \u001b[1;32mc:\\Users\\mice\\.conda\\envs\\mice-videomarker\\Lib\\site-packages\\pandas\\io\\parsers\\readers.py:620\u001b[0m, in \u001b[0;36m_read\u001b[1;34m(filepath_or_buffer, kwds)\u001b[0m\n\u001b[0;32m    617\u001b[0m _validate_names(kwds\u001b[38;5;241m.\u001b[39mget(\u001b[38;5;124m\"\u001b[39m\u001b[38;5;124mnames\u001b[39m\u001b[38;5;124m\"\u001b[39m, \u001b[38;5;28;01mNone\u001b[39;00m))\n\u001b[0;32m    619\u001b[0m \u001b[38;5;66;03m# Create the parser.\u001b[39;00m\n\u001b[1;32m--> 620\u001b[0m parser \u001b[38;5;241m=\u001b[39m \u001b[43mTextFileReader\u001b[49m\u001b[43m(\u001b[49m\u001b[43mfilepath_or_buffer\u001b[49m\u001b[43m,\u001b[49m\u001b[43m \u001b[49m\u001b[38;5;241;43m*\u001b[39;49m\u001b[38;5;241;43m*\u001b[39;49m\u001b[43mkwds\u001b[49m\u001b[43m)\u001b[49m\n\u001b[0;32m    622\u001b[0m \u001b[38;5;28;01mif\u001b[39;00m chunksize \u001b[38;5;129;01mor\u001b[39;00m iterator:\n\u001b[0;32m    623\u001b[0m     \u001b[38;5;28;01mreturn\u001b[39;00m parser\n",
      "File \u001b[1;32mc:\\Users\\mice\\.conda\\envs\\mice-videomarker\\Lib\\site-packages\\pandas\\io\\parsers\\readers.py:1620\u001b[0m, in \u001b[0;36mTextFileReader.__init__\u001b[1;34m(self, f, engine, **kwds)\u001b[0m\n\u001b[0;32m   1617\u001b[0m     \u001b[38;5;28mself\u001b[39m\u001b[38;5;241m.\u001b[39moptions[\u001b[38;5;124m\"\u001b[39m\u001b[38;5;124mhas_index_names\u001b[39m\u001b[38;5;124m\"\u001b[39m] \u001b[38;5;241m=\u001b[39m kwds[\u001b[38;5;124m\"\u001b[39m\u001b[38;5;124mhas_index_names\u001b[39m\u001b[38;5;124m\"\u001b[39m]\n\u001b[0;32m   1619\u001b[0m \u001b[38;5;28mself\u001b[39m\u001b[38;5;241m.\u001b[39mhandles: IOHandles \u001b[38;5;241m|\u001b[39m \u001b[38;5;28;01mNone\u001b[39;00m \u001b[38;5;241m=\u001b[39m \u001b[38;5;28;01mNone\u001b[39;00m\n\u001b[1;32m-> 1620\u001b[0m \u001b[38;5;28mself\u001b[39m\u001b[38;5;241m.\u001b[39m_engine \u001b[38;5;241m=\u001b[39m \u001b[38;5;28;43mself\u001b[39;49m\u001b[38;5;241;43m.\u001b[39;49m\u001b[43m_make_engine\u001b[49m\u001b[43m(\u001b[49m\u001b[43mf\u001b[49m\u001b[43m,\u001b[49m\u001b[43m \u001b[49m\u001b[38;5;28;43mself\u001b[39;49m\u001b[38;5;241;43m.\u001b[39;49m\u001b[43mengine\u001b[49m\u001b[43m)\u001b[49m\n",
      "File \u001b[1;32mc:\\Users\\mice\\.conda\\envs\\mice-videomarker\\Lib\\site-packages\\pandas\\io\\parsers\\readers.py:1880\u001b[0m, in \u001b[0;36mTextFileReader._make_engine\u001b[1;34m(self, f, engine)\u001b[0m\n\u001b[0;32m   1878\u001b[0m     \u001b[38;5;28;01mif\u001b[39;00m \u001b[38;5;124m\"\u001b[39m\u001b[38;5;124mb\u001b[39m\u001b[38;5;124m\"\u001b[39m \u001b[38;5;129;01mnot\u001b[39;00m \u001b[38;5;129;01min\u001b[39;00m mode:\n\u001b[0;32m   1879\u001b[0m         mode \u001b[38;5;241m+\u001b[39m\u001b[38;5;241m=\u001b[39m \u001b[38;5;124m\"\u001b[39m\u001b[38;5;124mb\u001b[39m\u001b[38;5;124m\"\u001b[39m\n\u001b[1;32m-> 1880\u001b[0m \u001b[38;5;28mself\u001b[39m\u001b[38;5;241m.\u001b[39mhandles \u001b[38;5;241m=\u001b[39m \u001b[43mget_handle\u001b[49m\u001b[43m(\u001b[49m\n\u001b[0;32m   1881\u001b[0m \u001b[43m    \u001b[49m\u001b[43mf\u001b[49m\u001b[43m,\u001b[49m\n\u001b[0;32m   1882\u001b[0m \u001b[43m    \u001b[49m\u001b[43mmode\u001b[49m\u001b[43m,\u001b[49m\n\u001b[0;32m   1883\u001b[0m \u001b[43m    \u001b[49m\u001b[43mencoding\u001b[49m\u001b[38;5;241;43m=\u001b[39;49m\u001b[38;5;28;43mself\u001b[39;49m\u001b[38;5;241;43m.\u001b[39;49m\u001b[43moptions\u001b[49m\u001b[38;5;241;43m.\u001b[39;49m\u001b[43mget\u001b[49m\u001b[43m(\u001b[49m\u001b[38;5;124;43m\"\u001b[39;49m\u001b[38;5;124;43mencoding\u001b[39;49m\u001b[38;5;124;43m\"\u001b[39;49m\u001b[43m,\u001b[49m\u001b[43m \u001b[49m\u001b[38;5;28;43;01mNone\u001b[39;49;00m\u001b[43m)\u001b[49m\u001b[43m,\u001b[49m\n\u001b[0;32m   1884\u001b[0m \u001b[43m    \u001b[49m\u001b[43mcompression\u001b[49m\u001b[38;5;241;43m=\u001b[39;49m\u001b[38;5;28;43mself\u001b[39;49m\u001b[38;5;241;43m.\u001b[39;49m\u001b[43moptions\u001b[49m\u001b[38;5;241;43m.\u001b[39;49m\u001b[43mget\u001b[49m\u001b[43m(\u001b[49m\u001b[38;5;124;43m\"\u001b[39;49m\u001b[38;5;124;43mcompression\u001b[39;49m\u001b[38;5;124;43m\"\u001b[39;49m\u001b[43m,\u001b[49m\u001b[43m \u001b[49m\u001b[38;5;28;43;01mNone\u001b[39;49;00m\u001b[43m)\u001b[49m\u001b[43m,\u001b[49m\n\u001b[0;32m   1885\u001b[0m \u001b[43m    \u001b[49m\u001b[43mmemory_map\u001b[49m\u001b[38;5;241;43m=\u001b[39;49m\u001b[38;5;28;43mself\u001b[39;49m\u001b[38;5;241;43m.\u001b[39;49m\u001b[43moptions\u001b[49m\u001b[38;5;241;43m.\u001b[39;49m\u001b[43mget\u001b[49m\u001b[43m(\u001b[49m\u001b[38;5;124;43m\"\u001b[39;49m\u001b[38;5;124;43mmemory_map\u001b[39;49m\u001b[38;5;124;43m\"\u001b[39;49m\u001b[43m,\u001b[49m\u001b[43m \u001b[49m\u001b[38;5;28;43;01mFalse\u001b[39;49;00m\u001b[43m)\u001b[49m\u001b[43m,\u001b[49m\n\u001b[0;32m   1886\u001b[0m \u001b[43m    \u001b[49m\u001b[43mis_text\u001b[49m\u001b[38;5;241;43m=\u001b[39;49m\u001b[43mis_text\u001b[49m\u001b[43m,\u001b[49m\n\u001b[0;32m   1887\u001b[0m \u001b[43m    \u001b[49m\u001b[43merrors\u001b[49m\u001b[38;5;241;43m=\u001b[39;49m\u001b[38;5;28;43mself\u001b[39;49m\u001b[38;5;241;43m.\u001b[39;49m\u001b[43moptions\u001b[49m\u001b[38;5;241;43m.\u001b[39;49m\u001b[43mget\u001b[49m\u001b[43m(\u001b[49m\u001b[38;5;124;43m\"\u001b[39;49m\u001b[38;5;124;43mencoding_errors\u001b[39;49m\u001b[38;5;124;43m\"\u001b[39;49m\u001b[43m,\u001b[49m\u001b[43m \u001b[49m\u001b[38;5;124;43m\"\u001b[39;49m\u001b[38;5;124;43mstrict\u001b[39;49m\u001b[38;5;124;43m\"\u001b[39;49m\u001b[43m)\u001b[49m\u001b[43m,\u001b[49m\n\u001b[0;32m   1888\u001b[0m \u001b[43m    \u001b[49m\u001b[43mstorage_options\u001b[49m\u001b[38;5;241;43m=\u001b[39;49m\u001b[38;5;28;43mself\u001b[39;49m\u001b[38;5;241;43m.\u001b[39;49m\u001b[43moptions\u001b[49m\u001b[38;5;241;43m.\u001b[39;49m\u001b[43mget\u001b[49m\u001b[43m(\u001b[49m\u001b[38;5;124;43m\"\u001b[39;49m\u001b[38;5;124;43mstorage_options\u001b[39;49m\u001b[38;5;124;43m\"\u001b[39;49m\u001b[43m,\u001b[49m\u001b[43m \u001b[49m\u001b[38;5;28;43;01mNone\u001b[39;49;00m\u001b[43m)\u001b[49m\u001b[43m,\u001b[49m\n\u001b[0;32m   1889\u001b[0m \u001b[43m\u001b[49m\u001b[43m)\u001b[49m\n\u001b[0;32m   1890\u001b[0m \u001b[38;5;28;01massert\u001b[39;00m \u001b[38;5;28mself\u001b[39m\u001b[38;5;241m.\u001b[39mhandles \u001b[38;5;129;01mis\u001b[39;00m \u001b[38;5;129;01mnot\u001b[39;00m \u001b[38;5;28;01mNone\u001b[39;00m\n\u001b[0;32m   1891\u001b[0m f \u001b[38;5;241m=\u001b[39m \u001b[38;5;28mself\u001b[39m\u001b[38;5;241m.\u001b[39mhandles\u001b[38;5;241m.\u001b[39mhandle\n",
      "File \u001b[1;32mc:\\Users\\mice\\.conda\\envs\\mice-videomarker\\Lib\\site-packages\\pandas\\io\\common.py:873\u001b[0m, in \u001b[0;36mget_handle\u001b[1;34m(path_or_buf, mode, encoding, compression, memory_map, is_text, errors, storage_options)\u001b[0m\n\u001b[0;32m    868\u001b[0m \u001b[38;5;28;01melif\u001b[39;00m \u001b[38;5;28misinstance\u001b[39m(handle, \u001b[38;5;28mstr\u001b[39m):\n\u001b[0;32m    869\u001b[0m     \u001b[38;5;66;03m# Check whether the filename is to be opened in binary mode.\u001b[39;00m\n\u001b[0;32m    870\u001b[0m     \u001b[38;5;66;03m# Binary mode does not support 'encoding' and 'newline'.\u001b[39;00m\n\u001b[0;32m    871\u001b[0m     \u001b[38;5;28;01mif\u001b[39;00m ioargs\u001b[38;5;241m.\u001b[39mencoding \u001b[38;5;129;01mand\u001b[39;00m \u001b[38;5;124m\"\u001b[39m\u001b[38;5;124mb\u001b[39m\u001b[38;5;124m\"\u001b[39m \u001b[38;5;129;01mnot\u001b[39;00m \u001b[38;5;129;01min\u001b[39;00m ioargs\u001b[38;5;241m.\u001b[39mmode:\n\u001b[0;32m    872\u001b[0m         \u001b[38;5;66;03m# Encoding\u001b[39;00m\n\u001b[1;32m--> 873\u001b[0m         handle \u001b[38;5;241m=\u001b[39m \u001b[38;5;28;43mopen\u001b[39;49m\u001b[43m(\u001b[49m\n\u001b[0;32m    874\u001b[0m \u001b[43m            \u001b[49m\u001b[43mhandle\u001b[49m\u001b[43m,\u001b[49m\n\u001b[0;32m    875\u001b[0m \u001b[43m            \u001b[49m\u001b[43mioargs\u001b[49m\u001b[38;5;241;43m.\u001b[39;49m\u001b[43mmode\u001b[49m\u001b[43m,\u001b[49m\n\u001b[0;32m    876\u001b[0m \u001b[43m            \u001b[49m\u001b[43mencoding\u001b[49m\u001b[38;5;241;43m=\u001b[39;49m\u001b[43mioargs\u001b[49m\u001b[38;5;241;43m.\u001b[39;49m\u001b[43mencoding\u001b[49m\u001b[43m,\u001b[49m\n\u001b[0;32m    877\u001b[0m \u001b[43m            \u001b[49m\u001b[43merrors\u001b[49m\u001b[38;5;241;43m=\u001b[39;49m\u001b[43merrors\u001b[49m\u001b[43m,\u001b[49m\n\u001b[0;32m    878\u001b[0m \u001b[43m            \u001b[49m\u001b[43mnewline\u001b[49m\u001b[38;5;241;43m=\u001b[39;49m\u001b[38;5;124;43m\"\u001b[39;49m\u001b[38;5;124;43m\"\u001b[39;49m\u001b[43m,\u001b[49m\n\u001b[0;32m    879\u001b[0m \u001b[43m        \u001b[49m\u001b[43m)\u001b[49m\n\u001b[0;32m    880\u001b[0m     \u001b[38;5;28;01melse\u001b[39;00m:\n\u001b[0;32m    881\u001b[0m         \u001b[38;5;66;03m# Binary mode\u001b[39;00m\n\u001b[0;32m    882\u001b[0m         handle \u001b[38;5;241m=\u001b[39m \u001b[38;5;28mopen\u001b[39m(handle, ioargs\u001b[38;5;241m.\u001b[39mmode)\n",
      "\u001b[1;31mFileNotFoundError\u001b[0m: [Errno 2] No such file or directory: './g5_left_output_episodes\\\\left_0b27065b15a4300c_scaledDLC_mobnet_100_y79Jun20shuffle1_10000_episodes.csv'"
     ]
    }
   ],
   "source": [
    "# input_dir = './g2_right_unclean'\n",
    "right_dir = './g5_right_unclean'\n",
    "left_dir = './g5_left_output_episodes'\n",
    "cr_dir = './g5_right_clean'\n",
    "left_unclean_dir = './g5_left_unclean'\n",
    "left_clean_dir = './g5_left_clean'\n",
    "no_cr_ep = False #ไม่มีขวา True\n",
    "only_left = False \n",
    "\n",
    "selected_file = '0b27065b15a4300c'\n",
    "for i, file in enumerate(os.listdir(right_dir)[:]):\n",
    "    if file[0:15] == selected_file[0:15]:\n",
    "        selected_file = file\n",
    "        if not no_cr_ep:\n",
    "            cr_ep_filename = os.path.join(cr_dir,r'right_'+ file[:-4]+r'_episodes.csv')\n",
    "        right_ep_filename = os.path.join(right_dir, file)\n",
    "        left_ep_filename = os.path.join(left_dir, r'left_'+file)\n",
    "        if not no_cr_ep:\n",
    "            cr_ep_filename = os.path.join(cr_dir,r'right_'+ file)\n",
    "        no_right_filename = os.path.join(left_unclean_dir,r'no_right_'+file)\n",
    "        print(no_right_filename)\n",
    "        left_output_filename = os.path.join(left_clean_dir,r'left_'+file)\n",
    "\n",
    "        vdo_file = file\n",
    "        right_ep_df = pd.read_csv(right_ep_filename)\n",
    "        left_ep_df = pd.read_csv(left_ep_filename)\n",
    "        if not no_cr_ep:\n",
    "            clean_right_ep_df = pd.read_csv(cr_ep_filename)\n",
    "            print(f'len right:{len(right_ep_df)}, cr:{len(clean_right_ep_df)}; {len(right_ep_df)-len(clean_right_ep_df)}')\n",
    "            print(f'len left:{len(left_ep_df)}; {len(left_ep_df)+(len(right_ep_df)-len(clean_right_ep_df))}')\n",
    "        else:\n",
    "            print(f'len right:{len(right_ep_df)}')\n",
    "            print(f'len left:{len(left_ep_df)}')\n"
   ]
  },
  {
   "cell_type": "code",
   "execution_count": 276,
   "metadata": {},
   "outputs": [
    {
     "name": "stdout",
     "output_type": "stream",
     "text": [
      "244\n"
     ]
    },
    {
     "name": "stderr",
     "output_type": "stream",
     "text": [
      "C:\\Users\\mice\\AppData\\Local\\Temp\\ipykernel_9188\\1285493843.py:11: FutureWarning: The behavior of DataFrame concatenation with empty or all-NA entries is deprecated. In a future version, this will no longer exclude empty or all-NA columns when determining the result dtypes. To retain the old behavior, exclude the relevant entries before the concat operation.\n",
      "  no_right = pd.concat([no_right, left_ep_df]).drop_duplicates(subset=['start']).sort_values(by=['start'])\n"
     ]
    }
   ],
   "source": [
    "if only_left:\n",
    "    no_right = left_ep_df\n",
    "elif not no_cr_ep:\n",
    "    all_df = right_ep_df.merge(clean_right_ep_df, on='start',how='left', indicator=True)\n",
    "    # print(all_df.to_string())\n",
    "    no_right = all_df[all_df[\"_merge\"] == \"left_only\"].drop(columns=[\"_merge\"]).dropna(axis='columns')\n",
    "    no_right.columns = right_ep_df.columns\n",
    "else:\n",
    "    no_right = right_ep_df\n",
    "    \n",
    "no_right = pd.concat([no_right, left_ep_df]).drop_duplicates(subset=['start']).sort_values(by=['start'])\n",
    "print(len(no_right))\n",
    "# print(no_right.to_string())\n",
    "no_right.to_csv(no_right_filename,index=False)\n",
    "# no_right.to_csv(left_output_filename,index=False)\n"
   ]
  },
  {
   "cell_type": "code",
   "execution_count": 277,
   "metadata": {},
   "outputs": [
    {
     "name": "stdout",
     "output_type": "stream",
     "text": [
      "c:\\Users\\mice\\Desktop\\sum_all_process./g5_left_unclean\\no_right_2f9d144675ac3cd8_scaledDLC_mobnet_100_y79Jun20shuffle1_10000_episodes.csv\n",
      "[200765, 98, 8846, 9365, 29777, 35777, 47052, 49902, 59584, 61153, 68830, 76358, 82284, 82758, 245820, 294762, 301999, 311742, 313598, 70190, 71686, 19287, 48991, 65192, 19287, 26038, 19287, 26038, 48991, 65192, 10981, 152019, 27551, 41303, 110163, 125967, 134068, 180825, 43817, 89834, 102502, 103164, 104140, 172055, 484, 3132, 29046, 62694, 102819, 105079, 113502, 115351, 125995, 125995, 148403, 154695, 168617, 198201, 199043, 202621, 205819, 212115, 212416, 215941, 218477, 218477, 226021, 227076, 229434, 77, 13333, 46668, 50696, 130090, 12081]\n",
      "61990\n",
      "65259\n",
      "111869\n",
      "119858\n",
      "119953\n",
      "120167\n",
      "157538\n",
      "180791\n",
      "198542\n",
      "Error in list index out of range\n",
      "Error in list index out of range\n"
     ]
    }
   ],
   "source": [
    "show_vdo(os.getcwd()+no_right_filename)"
   ]
  },
  {
   "cell_type": "code",
   "execution_count": 278,
   "metadata": {},
   "outputs": [
    {
     "name": "stdout",
     "output_type": "stream",
     "text": [
      "172\n",
      "244\n",
      "234\n",
      "right_side : [200765, 98, 8846, 9365, 29777, 35777, 47052, 49902, 59584, 61153, 68830, 76358, 82284, 82758, 245820, 294762, 301999, 311742, 313598, 70190, 71686, 19287, 48991, 65192, 19287, 26038, 19287, 26038, 48991, 65192, 10981, 152019, 27551, 41303, 110163, 125967, 134068, 180825, 43817, 89834, 102502, 103164, 104140, 172055, 484, 3132, 29046, 62694, 102819, 105079, 113502, 115351, 125995, 125995, 148403, 154695, 168617, 198201, 199043, 202621, 205819, 212115, 212416, 215941, 218477, 218477, 226021, 227076, 229434, 77, 13333, 46668, 50696, 130090, 12081]\n",
      "right_side : [200765, 98, 8846, 9365, 29777, 35777, 47052, 49902, 59584, 61153, 68830, 76358, 82284, 82758, 245820, 294762, 301999, 311742, 313598, 70190, 71686, 19287, 48991, 65192, 19287, 26038, 19287, 26038, 48991, 65192, 10981, 152019, 27551, 41303, 110163, 125967, 134068, 180825, 43817, 89834, 102502, 103164, 104140, 172055, 484, 3132, 29046, 62694, 102819, 105079, 113502, 115351, 125995, 125995, 148403, 154695, 168617, 198201, 199043, 202621, 205819, 212115, 212416, 215941, 218477, 218477, 226021, 227076, 229434, 77, 13333, 46668, 50696, 130090, 12081]\n",
      "c:\\Users\\mice\\Desktop\\sum_all_process\\g5_new_cr\\right_2f9d144675ac3cd8_scaledDLC_mobnet_100_y79Jun20shuffle1_10000_episodes.csv\n",
      "2\n",
      "3\n"
     ]
    }
   ],
   "source": [
    "print(len(deleted_range))\n",
    "left_df = pd.read_csv(os.getcwd()+no_right_filename)\n",
    "print(len(left_df))\n",
    "left_df = left_df[~left_df['start'].isin(deleted_range)]\n",
    "left_df = left_df[~left_df['start'].isin(right_side)]\n",
    "print(len(left_df))\n",
    "left_df.to_csv(left_output_filename,index=False)\n",
    "print(f\"right_side : {right_side}\")\n",
    "if len(right_side)!= 0:\n",
    "    print(f\"right_side : {right_side}\")\n",
    "    new_cr_path = os.getcwd() + r'\\g5_new_cr' + '\\\\' + r'right_' + selected_file\n",
    "    print(new_cr_path)\n",
    "    # print(no_right.loc[no_right['start'].isin(right_side)])\n",
    "    new_right_df = no_right[no_right['start'].isin(right_side)]\n",
    "    print(len(clean_right_ep_df))\n",
    "    new_cr = pd.concat([clean_right_ep_df, new_right_df]).drop_duplicates(subset=['start']).sort_values(by=['start'])\n",
    "    print(len(new_cr))\n",
    "    new_cr.to_csv(new_cr_path,index=False)"
   ]
  },
  {
   "cell_type": "code",
   "execution_count": 279,
   "metadata": {},
   "outputs": [
    {
     "name": "stdout",
     "output_type": "stream",
     "text": [
      "c:\\Users\\mice\\Desktop\\sum_all_process./g5_left_clean\\left_2f9d144675ac3cd8_scaledDLC_mobnet_100_y79Jun20shuffle1_10000_episodes.csv\n"
     ]
    }
   ],
   "source": [
    "show_vdo(os.getcwd() + left_output_filename)"
   ]
  },
  {
   "cell_type": "code",
   "execution_count": 280,
   "metadata": {},
   "outputs": [
    {
     "name": "stdout",
     "output_type": "stream",
     "text": [
      "c:\\Users\\mice\\Desktop\\sum_all_process\\g5_new_cr\\right_2f9d144675ac3cd8_scaledDLC_mobnet_100_y79Jun20shuffle1_10000_episodes.csv\n"
     ]
    }
   ],
   "source": [
    "episode_id = os.getcwd() + r'\\g5_new_cr' + '\\\\' + r'right_' + selected_file\n",
    "show_vdo(episode_id)"
   ]
  }
 ],
 "metadata": {
  "kernelspec": {
   "display_name": "cleaneps",
   "language": "python",
   "name": "python3"
  },
  "language_info": {
   "codemirror_mode": {
    "name": "ipython",
    "version": 3
   },
   "file_extension": ".py",
   "mimetype": "text/x-python",
   "name": "python",
   "nbconvert_exporter": "python",
   "pygments_lexer": "ipython3",
   "version": "3.12.4"
  }
 },
 "nbformat": 4,
 "nbformat_minor": 2
}
