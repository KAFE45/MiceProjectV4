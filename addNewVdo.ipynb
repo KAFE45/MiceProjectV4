{
 "cells": [
  {
   "cell_type": "code",
   "execution_count": 1,
   "metadata": {},
   "outputs": [
    {
     "name": "stdout",
     "output_type": "stream",
     "text": [
      "Loading DLC 3.0.0rc1...\n"
     ]
    }
   ],
   "source": [
    "import deeplabcut\n",
    "import os\n",
    "from deeplabcut.utils.auxfun_videos import VideoWriter"
   ]
  },
  {
   "cell_type": "code",
   "execution_count": null,
   "metadata": {},
   "outputs": [],
   "source": [
    "# Base proj --> e8c66d; Add 3aeefed vdo and trying to train together ;-;\n",
    "deeplabcut.add_new_videos(r'C:\\Users\\mice\\Desktop\\combine-video\\y79-e8c66d-2024-06-20\\config.yaml', r'C:\\Users\\mice\\Desktop\\combine-video\\3aeefedee4bf2a22_scaled.MOV', extract_frames=True)"
   ]
  },
  {
   "cell_type": "code",
   "execution_count": null,
   "metadata": {},
   "outputs": [],
   "source": [
    "config_path = r'C:\\Users\\mice\\Desktop\\combine-video\\y79-e8c66d-2024-06-20\\config.yaml'\n",
    "deeplabcut.check_labels(config_path, visualizeindividuals=True)"
   ]
  },
  {
   "cell_type": "code",
   "execution_count": null,
   "metadata": {},
   "outputs": [],
   "source": [
    "superanimal_name = 'superanimal_quadruped'\n",
    "superanimal_transfer_learning=True\n",
    "net_type = 'mobilenet_v2_1.0'\n",
    "deeplabcut.create_training_dataset(config_path, augmenter_type='imgaug', net_type = net_type)"
   ]
  },
  {
   "cell_type": "code",
   "execution_count": null,
   "metadata": {},
   "outputs": [],
   "source": [
    "deeplabcut.train_network(config_path, displayiters=1000, saveiters=1000, maxiters=10000)"
   ]
  },
  {
   "cell_type": "code",
   "execution_count": null,
   "metadata": {},
   "outputs": [],
   "source": [
    "deeplabcut.analyze_videos(config_path, [r\"C:\\Users\\mice\\Desktop\\combine-video\\post\\c99044e43ec651bf_scaled.MOV\"], save_as_csv=True)"
   ]
  },
  {
   "cell_type": "code",
   "execution_count": 2,
   "metadata": {},
   "outputs": [
    {
     "name": "stdout",
     "output_type": "stream",
     "text": [
      "c:\\Users\\mice\\Desktop\\sum_all_process\\Dataset\n",
      "Using snapshot-10000 for model C:\\Users\\mice\\Desktop\\sum_all_process\\y79-e8c66d-2024-06-20\\dlc-models\\iteration-0\\y79Jun20-trainset95shuffle1\n"
     ]
    },
    {
     "name": "stderr",
     "output_type": "stream",
     "text": [
      "c:\\Users\\mice\\.conda\\envs\\DEEPLABCUT\\lib\\site-packages\\tensorflow\\python\\keras\\engine\\base_layer_v1.py:1694: UserWarning: `layer.apply` is deprecated and will be removed in a future version. Please use `layer.__call__` method instead.\n",
      "  warnings.warn('`layer.apply` is deprecated and '\n"
     ]
    },
    {
     "name": "stdout",
     "output_type": "stream",
     "text": [
      "Starting to analyze %  c:\\Users\\mice\\Desktop\\sum_all_process\\Dataset\\0b27065b15a4300c_scaled.MOV\n",
      "Loading  c:\\Users\\mice\\Desktop\\sum_all_process\\Dataset\\0b27065b15a4300c_scaled.MOV\n",
      "Duration of video [s]:  945.38 , recorded with  240.0 fps!\n",
      "Overall # of frames:  226890  found with (before cropping) frame dimensions:  640 360\n",
      "Starting to extract posture\n"
     ]
    },
    {
     "name": "stderr",
     "output_type": "stream",
     "text": [
      "100%|██████████| 226890/226890 [14:57<00:00, 252.90it/s]\n"
     ]
    },
    {
     "name": "stdout",
     "output_type": "stream",
     "text": [
      "Saving results in c:\\Users\\mice\\Desktop\\sum_all_process\\Dataset...\n",
      "Saving csv poses!\n"
     ]
    },
    {
     "name": "stderr",
     "output_type": "stream",
     "text": [
      "c:\\Users\\mice\\.conda\\envs\\DEEPLABCUT\\lib\\site-packages\\deeplabcut\\utils\\auxiliaryfunctions.py:461: FutureWarning: Starting with pandas version 3.0 all arguments of to_hdf except for the argument 'path_or_buf' will be keyword-only.\n",
      "  DataMachine.to_hdf(dataname, \"df_with_missing\", format=\"table\", mode=\"w\")\n"
     ]
    },
    {
     "name": "stdout",
     "output_type": "stream",
     "text": [
      "The videos are analyzed. Now your research can truly start! \n",
      " You can create labeled videos with 'create_labeled_video'\n",
      "If the tracking is not satisfactory for some videos, consider expanding the training set. You can use the function 'extract_outlier_frames' to extract a few representative outlier frames.\n",
      "Using snapshot-10000 for model C:\\Users\\mice\\Desktop\\sum_all_process\\y79-e8c66d-2024-06-20\\dlc-models\\iteration-0\\y79Jun20-trainset95shuffle1\n"
     ]
    },
    {
     "name": "stderr",
     "output_type": "stream",
     "text": [
      "c:\\Users\\mice\\.conda\\envs\\DEEPLABCUT\\lib\\site-packages\\tensorflow\\python\\keras\\engine\\base_layer_v1.py:1694: UserWarning: `layer.apply` is deprecated and will be removed in a future version. Please use `layer.__call__` method instead.\n",
      "  warnings.warn('`layer.apply` is deprecated and '\n"
     ]
    },
    {
     "name": "stdout",
     "output_type": "stream",
     "text": [
      "Starting to analyze %  c:\\Users\\mice\\Desktop\\sum_all_process\\Dataset\\0eb579b7e1281316_scaled.MOV\n",
      "Loading  c:\\Users\\mice\\Desktop\\sum_all_process\\Dataset\\0eb579b7e1281316_scaled.MOV\n",
      "Duration of video [s]:  1078.42 , recorded with  240.0 fps!\n",
      "Overall # of frames:  258822  found with (before cropping) frame dimensions:  640 360\n",
      "Starting to extract posture\n"
     ]
    },
    {
     "name": "stderr",
     "output_type": "stream",
     "text": [
      "100%|██████████| 258822/258822 [16:33<00:00, 260.40it/s]\n"
     ]
    },
    {
     "name": "stdout",
     "output_type": "stream",
     "text": [
      "Saving results in c:\\Users\\mice\\Desktop\\sum_all_process\\Dataset...\n",
      "Saving csv poses!\n",
      "The videos are analyzed. Now your research can truly start! \n",
      " You can create labeled videos with 'create_labeled_video'\n",
      "If the tracking is not satisfactory for some videos, consider expanding the training set. You can use the function 'extract_outlier_frames' to extract a few representative outlier frames.\n"
     ]
    },
    {
     "name": "stderr",
     "output_type": "stream",
     "text": [
      "c:\\Users\\mice\\.conda\\envs\\DEEPLABCUT\\lib\\site-packages\\deeplabcut\\utils\\auxiliaryfunctions.py:461: FutureWarning: Starting with pandas version 3.0 all arguments of to_hdf except for the argument 'path_or_buf' will be keyword-only.\n",
      "  DataMachine.to_hdf(dataname, \"df_with_missing\", format=\"table\", mode=\"w\")\n"
     ]
    }
   ],
   "source": [
    "from os import listdir\n",
    "directory = os.getcwd() + '\\Dataset'\n",
    "print(directory)\n",
    "contents = os.listdir(directory)\n",
    "\n",
    "for vdo_files in contents:\n",
    "    config_path = r'C:\\Users\\mice\\Desktop\\sum_all_process\\y79-e8c66d-2024-06-20\\config.yaml'\n",
    "    deeplabcut.analyze_videos(config_path, [directory + '\\\\' + vdo_files], save_as_csv=True)"
   ]
  }
 ],
 "metadata": {
  "kernelspec": {
   "display_name": "deeplabcut",
   "language": "python",
   "name": "python3"
  },
  "language_info": {
   "codemirror_mode": {
    "name": "ipython",
    "version": 3
   },
   "file_extension": ".py",
   "mimetype": "text/x-python",
   "name": "python",
   "nbconvert_exporter": "python",
   "pygments_lexer": "ipython3",
   "version": "3.10.14"
  }
 },
 "nbformat": 4,
 "nbformat_minor": 2
}
