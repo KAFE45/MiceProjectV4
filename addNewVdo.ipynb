{
 "cells": [
  {
   "cell_type": "code",
   "execution_count": 1,
   "metadata": {},
   "outputs": [
    {
     "name": "stdout",
     "output_type": "stream",
     "text": [
      "Loading DLC 2.3.10...\n"
     ]
    }
   ],
   "source": [
    "import deeplabcut\n",
    "import os\n",
    "from deeplabcut.utils.auxfun_videos import VideoWriter"
   ]
  },
  {
   "cell_type": "code",
   "execution_count": 2,
   "metadata": {},
   "outputs": [
    {
     "name": "stdout",
     "output_type": "stream",
     "text": [
      "Attempting to create a symbolic link of the video ...\n",
      "Symlink creation impossible (exFat architecture?): copying the video instead.\n",
      "C:\\Users\\mice\\Desktop\\combine-video\\3aeefedee4bf2a22_scaled.MOV copied to C:\\Users\\mice\\Desktop\\combine-video\\y79-e8c66d-2024-06-20\\videos\\3aeefedee4bf2a22_scaled.MOV\n",
      "Config file read successfully.\n",
      "Extracting frames based on kmeans ...\n",
      "Kmeans-quantization based extracting of frames from 0.0  seconds to 983.15  seconds.\n",
      "Extracting and downsampling... 235956  frames from the video.\n"
     ]
    },
    {
     "name": "stderr",
     "output_type": "stream",
     "text": [
      "235956it [03:02, 1295.91it/s]\n"
     ]
    },
    {
     "name": "stdout",
     "output_type": "stream",
     "text": [
      "Kmeans clustering ... (this might take a while)\n",
      "Frames were successfully extracted, for the videos listed in the config.yaml file.\n",
      "\n",
      "You can now label the frames using the function 'label_frames' (Note, you should label frames extracted from diverse videos (and many videos; we do not recommend training on single videos!)).\n",
      "New videos were added to the project and frames have been extracted for labeling!\n"
     ]
    }
   ],
   "source": [
    "# Base proj --> e8c66d; Add 3aeefed vdo and trying to train together ;-;\n",
    "deeplabcut.add_new_videos(r'C:\\Users\\mice\\Desktop\\combine-video\\y79-e8c66d-2024-06-20\\config.yaml', r'C:\\Users\\mice\\Desktop\\combine-video\\3aeefedee4bf2a22_scaled.MOV', extract_frames=True)"
   ]
  },
  {
   "cell_type": "code",
   "execution_count": 4,
   "metadata": {},
   "outputs": [
    {
     "name": "stdout",
     "output_type": "stream",
     "text": [
      "Creating images with labels by e8c66d.\n"
     ]
    },
    {
     "name": "stderr",
     "output_type": "stream",
     "text": [
      "100%|██████████| 20/20 [00:01<00:00, 15.60it/s]\n",
      "100%|██████████| 20/20 [00:01<00:00, 14.83it/s]"
     ]
    },
    {
     "name": "stdout",
     "output_type": "stream",
     "text": [
      "If all the labels are ok, then use the function 'create_training_dataset' to create the training dataset!\n"
     ]
    },
    {
     "name": "stderr",
     "output_type": "stream",
     "text": [
      "\n"
     ]
    }
   ],
   "source": [
    "config_path = r'C:\\Users\\mice\\Desktop\\combine-video\\y79-e8c66d-2024-06-20\\config.yaml'\n",
    "deeplabcut.check_labels(config_path, visualizeindividuals=True)"
   ]
  },
  {
   "cell_type": "code",
   "execution_count": 7,
   "metadata": {},
   "outputs": [
    {
     "name": "stdout",
     "output_type": "stream",
     "text": [
      "The training dataset is successfully created. Use the function 'train_network' to start training. Happy training!\n"
     ]
    },
    {
     "data": {
      "text/plain": [
       "[(0.95,\n",
       "  1,\n",
       "  (array([ 3,  1, 34, 21,  8, 11, 27,  9, 32, 15,  0, 12, 38, 29, 25, 31, 39,\n",
       "           6, 37, 20, 24, 13, 22,  4, 33, 18,  5, 30, 35, 26, 14,  2, 17, 16,\n",
       "          28, 10, 19, 36]),\n",
       "   array([23,  7])))]"
      ]
     },
     "execution_count": 7,
     "metadata": {},
     "output_type": "execute_result"
    }
   ],
   "source": [
    "superanimal_name = 'superanimal_quadruped'\n",
    "superanimal_transfer_learning=True\n",
    "net_type = 'mobilenet_v2_1.0'\n",
    "deeplabcut.create_training_dataset(config_path, augmenter_type='imgaug', net_type = net_type)"
   ]
  },
  {
   "cell_type": "code",
   "execution_count": 8,
   "metadata": {},
   "outputs": [
    {
     "name": "stderr",
     "output_type": "stream",
     "text": [
      "Config:\n",
      "{'all_joints': [[0], [1], [2], [3], [4], [5], [6]],\n",
      " 'all_joints_names': ['pellet',\n",
      "                      'nosetip',\n",
      "                      'right finger',\n",
      "                      'right palm',\n",
      "                      'right thumb',\n",
      "                      'right elbow',\n",
      "                      'left finger'],\n",
      " 'alpha_r': 0.02,\n",
      " 'apply_prob': 0.5,\n",
      " 'batch_size': 1,\n",
      " 'contrast': {'clahe': True,\n",
      "              'claheratio': 0.1,\n",
      "              'histeq': True,\n",
      "              'histeqratio': 0.1},\n",
      " 'convolution': {'edge': False,\n",
      "                 'emboss': {'alpha': [0.0, 1.0], 'strength': [0.5, 1.5]},\n",
      "                 'embossratio': 0.1,\n",
      "                 'sharpen': False,\n",
      "                 'sharpenratio': 0.3},\n",
      " 'crop_pad': 0,\n",
      " 'cropratio': 0.4,\n",
      " 'dataset': 'training-datasets\\\\iteration-0\\\\UnaugmentedDataSet_y79Jun20\\\\y79_e8c66d95shuffle1.mat',\n",
      " 'dataset_type': 'imgaug',\n",
      " 'decay_steps': 30000,\n",
      " 'deterministic': False,\n",
      " 'display_iters': 1000,\n",
      " 'fg_fraction': 0.25,\n",
      " 'global_scale': 0.8,\n",
      " 'init_weights': 'c:\\\\Users\\\\mice\\\\.conda\\\\envs\\\\deeplabcut\\\\lib\\\\site-packages\\\\deeplabcut\\\\pose_estimation_tensorflow\\\\models\\\\pretrained\\\\mobilenet_v2_1.0_224.ckpt',\n",
      " 'intermediate_supervision': False,\n",
      " 'intermediate_supervision_layer': 12,\n",
      " 'location_refinement': True,\n",
      " 'locref_huber_loss': True,\n",
      " 'locref_loss_weight': 0.05,\n",
      " 'locref_stdev': 7.2801,\n",
      " 'log_dir': 'log',\n",
      " 'lr_init': 0.0005,\n",
      " 'max_input_size': 1500,\n",
      " 'mean_pixel': [123.68, 116.779, 103.939],\n",
      " 'metadataset': 'training-datasets\\\\iteration-0\\\\UnaugmentedDataSet_y79Jun20\\\\Documentation_data-y79_95shuffle1.pickle',\n",
      " 'min_input_size': 64,\n",
      " 'mirror': False,\n",
      " 'multi_stage': False,\n",
      " 'multi_step': [[0.005, 10000],\n",
      "                [0.02, 430000],\n",
      "                [0.002, 730000],\n",
      "                [0.001, 1030000]],\n",
      " 'net_type': 'mobilenet_v2_1.0',\n",
      " 'num_joints': 7,\n",
      " 'optimizer': 'sgd',\n",
      " 'pairwise_huber_loss': False,\n",
      " 'pairwise_predict': False,\n",
      " 'partaffinityfield_predict': False,\n",
      " 'pos_dist_thresh': 17,\n",
      " 'project_path': 'C:\\\\Users\\\\mice\\\\Desktop\\\\combine-video\\\\y79-e8c66d-2024-06-20',\n",
      " 'regularize': False,\n",
      " 'rotation': 25,\n",
      " 'rotratio': 0.4,\n",
      " 'save_iters': 50000,\n",
      " 'scale_jitter_lo': 0.5,\n",
      " 'scale_jitter_up': 1.25,\n",
      " 'scoremap_dir': 'test',\n",
      " 'shuffle': True,\n",
      " 'snapshot_prefix': 'C:\\\\Users\\\\mice\\\\Desktop\\\\combine-video\\\\y79-e8c66d-2024-06-20\\\\dlc-models\\\\iteration-0\\\\y79Jun20-trainset95shuffle1\\\\train\\\\snapshot',\n",
      " 'stride': 8.0,\n",
      " 'weigh_negatives': False,\n",
      " 'weigh_only_present_joints': False,\n",
      " 'weigh_part_predictions': False,\n",
      " 'weight_decay': 0.0001}\n"
     ]
    },
    {
     "name": "stdout",
     "output_type": "stream",
     "text": [
      "Selecting single-animal trainer\n",
      "Batch Size is 1\n"
     ]
    },
    {
     "name": "stderr",
     "output_type": "stream",
     "text": [
      "c:\\Users\\mice\\.conda\\envs\\deeplabcut\\lib\\site-packages\\tensorflow\\python\\keras\\engine\\base_layer_v1.py:1694: UserWarning: `layer.apply` is deprecated and will be removed in a future version. Please use `layer.__call__` method instead.\n",
      "  warnings.warn('`layer.apply` is deprecated and '\n"
     ]
    },
    {
     "name": "stdout",
     "output_type": "stream",
     "text": [
      "Loading ImageNet-pretrained mobilenet_v2_1.0\n",
      "Max_iters overwritten as 10000\n",
      "Display_iters overwritten as 1000\n",
      "Save_iters overwritten as 1000\n",
      "Training parameter:\n",
      "{'stride': 8.0, 'weigh_part_predictions': False, 'weigh_negatives': False, 'fg_fraction': 0.25, 'mean_pixel': [123.68, 116.779, 103.939], 'shuffle': True, 'snapshot_prefix': 'C:\\\\Users\\\\mice\\\\Desktop\\\\combine-video\\\\y79-e8c66d-2024-06-20\\\\dlc-models\\\\iteration-0\\\\y79Jun20-trainset95shuffle1\\\\train\\\\snapshot', 'log_dir': 'log', 'global_scale': 0.8, 'location_refinement': True, 'locref_stdev': 7.2801, 'locref_loss_weight': 0.05, 'locref_huber_loss': True, 'optimizer': 'sgd', 'intermediate_supervision': False, 'intermediate_supervision_layer': 12, 'regularize': False, 'weight_decay': 0.0001, 'crop_pad': 0, 'scoremap_dir': 'test', 'batch_size': 1, 'dataset_type': 'imgaug', 'deterministic': False, 'mirror': False, 'pairwise_huber_loss': False, 'weigh_only_present_joints': False, 'partaffinityfield_predict': False, 'pairwise_predict': False, 'all_joints': [[0], [1], [2], [3], [4], [5], [6]], 'all_joints_names': ['pellet', 'nosetip', 'right finger', 'right palm', 'right thumb', 'right elbow', 'left finger'], 'alpha_r': 0.02, 'apply_prob': 0.5, 'contrast': {'clahe': True, 'claheratio': 0.1, 'histeq': True, 'histeqratio': 0.1, 'gamma': False, 'sigmoid': False, 'log': False, 'linear': False}, 'convolution': {'edge': False, 'emboss': {'alpha': [0.0, 1.0], 'strength': [0.5, 1.5]}, 'embossratio': 0.1, 'sharpen': False, 'sharpenratio': 0.3}, 'cropratio': 0.4, 'dataset': 'training-datasets\\\\iteration-0\\\\UnaugmentedDataSet_y79Jun20\\\\y79_e8c66d95shuffle1.mat', 'decay_steps': 30000, 'display_iters': 1000, 'init_weights': 'c:\\\\Users\\\\mice\\\\.conda\\\\envs\\\\deeplabcut\\\\lib\\\\site-packages\\\\deeplabcut\\\\pose_estimation_tensorflow\\\\models\\\\pretrained\\\\mobilenet_v2_1.0_224.ckpt', 'lr_init': 0.0005, 'max_input_size': 1500, 'metadataset': 'training-datasets\\\\iteration-0\\\\UnaugmentedDataSet_y79Jun20\\\\Documentation_data-y79_95shuffle1.pickle', 'min_input_size': 64, 'multi_stage': False, 'multi_step': [[0.005, 10000], [0.02, 430000], [0.002, 730000], [0.001, 1030000]], 'net_type': 'mobilenet_v2_1.0', 'num_joints': 7, 'pos_dist_thresh': 17, 'project_path': 'C:\\\\Users\\\\mice\\\\Desktop\\\\combine-video\\\\y79-e8c66d-2024-06-20', 'rotation': 25, 'rotratio': 0.4, 'save_iters': 50000, 'scale_jitter_lo': 0.5, 'scale_jitter_up': 1.25, 'covering': True, 'elastic_transform': True, 'motion_blur': True, 'motion_blur_params': {'k': 7, 'angle': (-90, 90)}}\n",
      "Starting training....\n"
     ]
    },
    {
     "name": "stderr",
     "output_type": "stream",
     "text": [
      "iteration: 1000 loss: 0.0514 lr: 0.005\n",
      "iteration: 2000 loss: 0.0258 lr: 0.005\n",
      "iteration: 3000 loss: 0.0216 lr: 0.005\n",
      "iteration: 4000 loss: 0.0198 lr: 0.005\n",
      "iteration: 5000 loss: 0.0183 lr: 0.005\n",
      "iteration: 6000 loss: 0.0174 lr: 0.005\n",
      "iteration: 7000 loss: 0.0161 lr: 0.005\n",
      "iteration: 8000 loss: 0.0154 lr: 0.005\n",
      "iteration: 9000 loss: 0.0144 lr: 0.005\n",
      "iteration: 10000 loss: 0.0137 lr: 0.005\n",
      "Exception in thread Thread-31 (load_and_enqueue):\n",
      "Traceback (most recent call last):\n",
      "  File \"c:\\Users\\mice\\.conda\\envs\\deeplabcut\\lib\\site-packages\\tensorflow\\python\\client\\session.py\", line 1378, in _do_call\n",
      "    return fn(*args)\n",
      "  File \"c:\\Users\\mice\\.conda\\envs\\deeplabcut\\lib\\site-packages\\tensorflow\\python\\client\\session.py\", line 1361, in _run_fn\n",
      "    return self._call_tf_sessionrun(options, feed_dict, fetch_list,\n",
      "  File \"c:\\Users\\mice\\.conda\\envs\\deeplabcut\\lib\\site-packages\\tensorflow\\python\\client\\session.py\", line 1454, in _call_tf_sessionrun\n",
      "    return tf_session.TF_SessionRun_wrapper(self._session, options, feed_dict,\n",
      "tensorflow.python.framework.errors_impl.CancelledError: Enqueue operation was cancelled\n",
      "\t [[{{node fifo_queue_enqueue}}]]\n",
      "\n",
      "During handling of the above exception, another exception occurred:\n",
      "\n",
      "Traceback (most recent call last):\n",
      "  File \"c:\\Users\\mice\\.conda\\envs\\deeplabcut\\lib\\threading.py\", line 1016, in _bootstrap_inner\n",
      "    self.run()\n",
      "  File \"c:\\Users\\mice\\.conda\\envs\\deeplabcut\\lib\\site-packages\\ipykernel\\ipkernel.py\", line 766, in run_closure\n",
      "    _threading_Thread_run(self)\n",
      "  File \"c:\\Users\\mice\\.conda\\envs\\deeplabcut\\lib\\threading.py\", line 953, in run\n",
      "    self._target(*self._args, **self._kwargs)\n",
      "  File \"c:\\Users\\mice\\.conda\\envs\\deeplabcut\\lib\\site-packages\\deeplabcut\\pose_estimation_tensorflow\\core\\train.py\", line 86, in load_and_enqueue\n",
      "    sess.run(enqueue_op, feed_dict=food)\n",
      "  File \"c:\\Users\\mice\\.conda\\envs\\deeplabcut\\lib\\site-packages\\tensorflow\\python\\client\\session.py\", line 968, in run\n",
      "    result = self._run(None, fetches, feed_dict, options_ptr,\n",
      "  File \"c:\\Users\\mice\\.conda\\envs\\deeplabcut\\lib\\site-packages\\tensorflow\\python\\client\\session.py\", line 1191, in _run\n",
      "    results = self._do_run(handle, final_targets, final_fetches,\n",
      "  File \"c:\\Users\\mice\\.conda\\envs\\deeplabcut\\lib\\site-packages\\tensorflow\\python\\client\\session.py\", line 1371, in _do_run\n",
      "    return self._do_call(_run_fn, feeds, fetches, targets, options,\n",
      "  File \"c:\\Users\\mice\\.conda\\envs\\deeplabcut\\lib\\site-packages\\tensorflow\\python\\client\\session.py\", line 1397, in _do_call\n",
      "    raise type(e)(node_def, op, message)  # pylint: disable=no-value-for-parameter\n",
      "tensorflow.python.framework.errors_impl.CancelledError: Graph execution error:\n",
      "\n",
      "Detected at node 'fifo_queue_enqueue' defined at (most recent call last):\n",
      "    File \"c:\\Users\\mice\\.conda\\envs\\deeplabcut\\lib\\runpy.py\", line 196, in _run_module_as_main\n",
      "      return _run_code(code, main_globals, None,\n",
      "    File \"c:\\Users\\mice\\.conda\\envs\\deeplabcut\\lib\\runpy.py\", line 86, in _run_code\n",
      "      exec(code, run_globals)\n",
      "    File \"c:\\Users\\mice\\.conda\\envs\\deeplabcut\\lib\\site-packages\\ipykernel_launcher.py\", line 18, in <module>\n",
      "      app.launch_new_instance()\n",
      "    File \"c:\\Users\\mice\\.conda\\envs\\deeplabcut\\lib\\site-packages\\traitlets\\config\\application.py\", line 1075, in launch_instance\n",
      "      app.start()\n",
      "    File \"c:\\Users\\mice\\.conda\\envs\\deeplabcut\\lib\\site-packages\\ipykernel\\kernelapp.py\", line 739, in start\n",
      "      self.io_loop.start()\n",
      "    File \"c:\\Users\\mice\\.conda\\envs\\deeplabcut\\lib\\site-packages\\tornado\\platform\\asyncio.py\", line 205, in start\n",
      "      self.asyncio_loop.run_forever()\n",
      "    File \"c:\\Users\\mice\\.conda\\envs\\deeplabcut\\lib\\asyncio\\base_events.py\", line 603, in run_forever\n",
      "      self._run_once()\n",
      "    File \"c:\\Users\\mice\\.conda\\envs\\deeplabcut\\lib\\asyncio\\base_events.py\", line 1909, in _run_once\n",
      "      handle._run()\n",
      "    File \"c:\\Users\\mice\\.conda\\envs\\deeplabcut\\lib\\asyncio\\events.py\", line 80, in _run\n",
      "      self._context.run(self._callback, *self._args)\n",
      "    File \"c:\\Users\\mice\\.conda\\envs\\deeplabcut\\lib\\site-packages\\ipykernel\\kernelbase.py\", line 545, in dispatch_queue\n",
      "      await self.process_one()\n",
      "    File \"c:\\Users\\mice\\.conda\\envs\\deeplabcut\\lib\\site-packages\\ipykernel\\kernelbase.py\", line 534, in process_one\n",
      "      await dispatch(*args)\n",
      "    File \"c:\\Users\\mice\\.conda\\envs\\deeplabcut\\lib\\site-packages\\ipykernel\\kernelbase.py\", line 437, in dispatch_shell\n",
      "      await result\n",
      "    File \"c:\\Users\\mice\\.conda\\envs\\deeplabcut\\lib\\site-packages\\ipykernel\\ipkernel.py\", line 362, in execute_request\n",
      "      await super().execute_request(stream, ident, parent)\n",
      "    File \"c:\\Users\\mice\\.conda\\envs\\deeplabcut\\lib\\site-packages\\ipykernel\\kernelbase.py\", line 778, in execute_request\n",
      "      reply_content = await reply_content\n",
      "    File \"c:\\Users\\mice\\.conda\\envs\\deeplabcut\\lib\\site-packages\\ipykernel\\ipkernel.py\", line 449, in do_execute\n",
      "      res = shell.run_cell(\n",
      "    File \"c:\\Users\\mice\\.conda\\envs\\deeplabcut\\lib\\site-packages\\ipykernel\\zmqshell.py\", line 549, in run_cell\n",
      "      return super().run_cell(*args, **kwargs)\n",
      "    File \"c:\\Users\\mice\\.conda\\envs\\deeplabcut\\lib\\site-packages\\IPython\\core\\interactiveshell.py\", line 3075, in run_cell\n",
      "      result = self._run_cell(\n",
      "    File \"c:\\Users\\mice\\.conda\\envs\\deeplabcut\\lib\\site-packages\\IPython\\core\\interactiveshell.py\", line 3130, in _run_cell\n",
      "      result = runner(coro)\n",
      "    File \"c:\\Users\\mice\\.conda\\envs\\deeplabcut\\lib\\site-packages\\IPython\\core\\async_helpers.py\", line 129, in _pseudo_sync_runner\n",
      "      coro.send(None)\n",
      "    File \"c:\\Users\\mice\\.conda\\envs\\deeplabcut\\lib\\site-packages\\IPython\\core\\interactiveshell.py\", line 3334, in run_cell_async\n",
      "      has_raised = await self.run_ast_nodes(code_ast.body, cell_name,\n",
      "    File \"c:\\Users\\mice\\.conda\\envs\\deeplabcut\\lib\\site-packages\\IPython\\core\\interactiveshell.py\", line 3517, in run_ast_nodes\n",
      "      if await self.run_code(code, result, async_=asy):\n",
      "    File \"c:\\Users\\mice\\.conda\\envs\\deeplabcut\\lib\\site-packages\\IPython\\core\\interactiveshell.py\", line 3577, in run_code\n",
      "      exec(code_obj, self.user_global_ns, self.user_ns)\n",
      "    File \"C:\\Users\\mice\\AppData\\Local\\Temp\\ipykernel_25512\\2216339346.py\", line 1, in <module>\n",
      "      deeplabcut.train_network(config_path, displayiters=1000, saveiters=1000, maxiters=10000)\n",
      "    File \"c:\\Users\\mice\\.conda\\envs\\deeplabcut\\lib\\site-packages\\deeplabcut\\pose_estimation_tensorflow\\training.py\", line 273, in train_network\n",
      "      train(\n",
      "    File \"c:\\Users\\mice\\.conda\\envs\\deeplabcut\\lib\\site-packages\\deeplabcut\\pose_estimation_tensorflow\\core\\train.py\", line 172, in train\n",
      "      batch, enqueue_op, placeholders = setup_preloading(batch_spec)\n",
      "    File \"c:\\Users\\mice\\.conda\\envs\\deeplabcut\\lib\\site-packages\\deeplabcut\\pose_estimation_tensorflow\\core\\train.py\", line 72, in setup_preloading\n",
      "      enqueue_op = q.enqueue(placeholders_list)\n",
      "Node: 'fifo_queue_enqueue'\n",
      "Enqueue operation was cancelled\n",
      "\t [[{{node fifo_queue_enqueue}}]]\n",
      "\n",
      "Original stack trace for 'fifo_queue_enqueue':\n",
      "  File \"c:\\Users\\mice\\.conda\\envs\\deeplabcut\\lib\\runpy.py\", line 196, in _run_module_as_main\n",
      "    return _run_code(code, main_globals, None,\n",
      "  File \"c:\\Users\\mice\\.conda\\envs\\deeplabcut\\lib\\runpy.py\", line 86, in _run_code\n",
      "    exec(code, run_globals)\n",
      "  File \"c:\\Users\\mice\\.conda\\envs\\deeplabcut\\lib\\site-packages\\ipykernel_launcher.py\", line 18, in <module>\n",
      "    app.launch_new_instance()\n",
      "  File \"c:\\Users\\mice\\.conda\\envs\\deeplabcut\\lib\\site-packages\\traitlets\\config\\application.py\", line 1075, in launch_instance\n",
      "    app.start()\n",
      "  File \"c:\\Users\\mice\\.conda\\envs\\deeplabcut\\lib\\site-packages\\ipykernel\\kernelapp.py\", line 739, in start\n",
      "    self.io_loop.start()\n",
      "  File \"c:\\Users\\mice\\.conda\\envs\\deeplabcut\\lib\\site-packages\\tornado\\platform\\asyncio.py\", line 205, in start\n",
      "    self.asyncio_loop.run_forever()\n",
      "  File \"c:\\Users\\mice\\.conda\\envs\\deeplabcut\\lib\\asyncio\\base_events.py\", line 603, in run_forever\n",
      "    self._run_once()\n",
      "  File \"c:\\Users\\mice\\.conda\\envs\\deeplabcut\\lib\\asyncio\\base_events.py\", line 1909, in _run_once\n",
      "    handle._run()\n",
      "  File \"c:\\Users\\mice\\.conda\\envs\\deeplabcut\\lib\\asyncio\\events.py\", line 80, in _run\n",
      "    self._context.run(self._callback, *self._args)\n",
      "  File \"c:\\Users\\mice\\.conda\\envs\\deeplabcut\\lib\\site-packages\\ipykernel\\kernelbase.py\", line 545, in dispatch_queue\n",
      "    await self.process_one()\n",
      "  File \"c:\\Users\\mice\\.conda\\envs\\deeplabcut\\lib\\site-packages\\ipykernel\\kernelbase.py\", line 534, in process_one\n",
      "    await dispatch(*args)\n",
      "  File \"c:\\Users\\mice\\.conda\\envs\\deeplabcut\\lib\\site-packages\\ipykernel\\kernelbase.py\", line 437, in dispatch_shell\n",
      "    await result\n",
      "  File \"c:\\Users\\mice\\.conda\\envs\\deeplabcut\\lib\\site-packages\\ipykernel\\ipkernel.py\", line 362, in execute_request\n",
      "    await super().execute_request(stream, ident, parent)\n",
      "  File \"c:\\Users\\mice\\.conda\\envs\\deeplabcut\\lib\\site-packages\\ipykernel\\kernelbase.py\", line 778, in execute_request\n",
      "    reply_content = await reply_content\n",
      "  File \"c:\\Users\\mice\\.conda\\envs\\deeplabcut\\lib\\site-packages\\ipykernel\\ipkernel.py\", line 449, in do_execute\n",
      "    res = shell.run_cell(\n",
      "  File \"c:\\Users\\mice\\.conda\\envs\\deeplabcut\\lib\\site-packages\\ipykernel\\zmqshell.py\", line 549, in run_cell\n",
      "    return super().run_cell(*args, **kwargs)\n",
      "  File \"c:\\Users\\mice\\.conda\\envs\\deeplabcut\\lib\\site-packages\\IPython\\core\\interactiveshell.py\", line 3075, in run_cell\n",
      "    result = self._run_cell(\n",
      "  File \"c:\\Users\\mice\\.conda\\envs\\deeplabcut\\lib\\site-packages\\IPython\\core\\interactiveshell.py\", line 3130, in _run_cell\n",
      "    result = runner(coro)\n",
      "  File \"c:\\Users\\mice\\.conda\\envs\\deeplabcut\\lib\\site-packages\\IPython\\core\\async_helpers.py\", line 129, in _pseudo_sync_runner\n",
      "    coro.send(None)\n",
      "  File \"c:\\Users\\mice\\.conda\\envs\\deeplabcut\\lib\\site-packages\\IPython\\core\\interactiveshell.py\", line 3334, in run_cell_async\n",
      "    has_raised = await self.run_ast_nodes(code_ast.body, cell_name,\n",
      "  File \"c:\\Users\\mice\\.conda\\envs\\deeplabcut\\lib\\site-packages\\IPython\\core\\interactiveshell.py\", line 3517, in run_ast_nodes\n",
      "    if await self.run_code(code, result, async_=asy):\n",
      "  File \"c:\\Users\\mice\\.conda\\envs\\deeplabcut\\lib\\site-packages\\IPython\\core\\interactiveshell.py\", line 3577, in run_code\n",
      "    exec(code_obj, self.user_global_ns, self.user_ns)\n",
      "  File \"C:\\Users\\mice\\AppData\\Local\\Temp\\ipykernel_25512\\2216339346.py\", line 1, in <module>\n",
      "    deeplabcut.train_network(config_path, displayiters=1000, saveiters=1000, maxiters=10000)\n",
      "  File \"c:\\Users\\mice\\.conda\\envs\\deeplabcut\\lib\\site-packages\\deeplabcut\\pose_estimation_tensorflow\\training.py\", line 273, in train_network\n",
      "    train(\n",
      "  File \"c:\\Users\\mice\\.conda\\envs\\deeplabcut\\lib\\site-packages\\deeplabcut\\pose_estimation_tensorflow\\core\\train.py\", line 172, in train\n",
      "    batch, enqueue_op, placeholders = setup_preloading(batch_spec)\n",
      "  File \"c:\\Users\\mice\\.conda\\envs\\deeplabcut\\lib\\site-packages\\deeplabcut\\pose_estimation_tensorflow\\core\\train.py\", line 72, in setup_preloading\n",
      "    enqueue_op = q.enqueue(placeholders_list)\n",
      "  File \"c:\\Users\\mice\\.conda\\envs\\deeplabcut\\lib\\site-packages\\tensorflow\\python\\ops\\data_flow_ops.py\", line 346, in enqueue\n",
      "    return gen_data_flow_ops.queue_enqueue_v2(\n",
      "  File \"c:\\Users\\mice\\.conda\\envs\\deeplabcut\\lib\\site-packages\\tensorflow\\python\\ops\\gen_data_flow_ops.py\", line 4062, in queue_enqueue_v2\n",
      "    _, _, _op, _outputs = _op_def_library._apply_op_helper(\n",
      "  File \"c:\\Users\\mice\\.conda\\envs\\deeplabcut\\lib\\site-packages\\tensorflow\\python\\framework\\op_def_library.py\", line 797, in _apply_op_helper\n",
      "    op = g._create_op_internal(op_type_name, inputs, dtypes=None,\n",
      "  File \"c:\\Users\\mice\\.conda\\envs\\deeplabcut\\lib\\site-packages\\tensorflow\\python\\framework\\ops.py\", line 3800, in _create_op_internal\n",
      "    ret = Operation(\n",
      "\n"
     ]
    },
    {
     "name": "stdout",
     "output_type": "stream",
     "text": [
      "The network is now trained and ready to evaluate. Use the function 'evaluate_network' to evaluate the network.\n"
     ]
    }
   ],
   "source": [
    "deeplabcut.train_network(config_path, displayiters=1000, saveiters=1000, maxiters=10000)"
   ]
  },
  {
   "cell_type": "code",
   "execution_count": 9,
   "metadata": {},
   "outputs": [
    {
     "name": "stderr",
     "output_type": "stream",
     "text": [
      "Config:\n",
      "{'all_joints': [[0], [1], [2], [3], [4], [5], [6]],\n",
      " 'all_joints_names': ['pellet',\n",
      "                      'nosetip',\n",
      "                      'right finger',\n",
      "                      'right palm',\n",
      "                      'right thumb',\n",
      "                      'right elbow',\n",
      "                      'left finger'],\n",
      " 'batch_size': 1,\n",
      " 'crop_pad': 0,\n",
      " 'dataset': 'training-datasets\\\\iteration-0\\\\UnaugmentedDataSet_y79Jun20\\\\y79_e8c66d95shuffle1.mat',\n",
      " 'dataset_type': 'imgaug',\n",
      " 'deterministic': False,\n",
      " 'fg_fraction': 0.25,\n",
      " 'global_scale': 0.8,\n",
      " 'init_weights': 'c:\\\\Users\\\\mice\\\\.conda\\\\envs\\\\deeplabcut\\\\lib\\\\site-packages\\\\deeplabcut\\\\pose_estimation_tensorflow\\\\models\\\\pretrained\\\\mobilenet_v2_1.0_224.ckpt',\n",
      " 'intermediate_supervision': False,\n",
      " 'intermediate_supervision_layer': 12,\n",
      " 'location_refinement': True,\n",
      " 'locref_huber_loss': True,\n",
      " 'locref_loss_weight': 1.0,\n",
      " 'locref_stdev': 7.2801,\n",
      " 'log_dir': 'log',\n",
      " 'mean_pixel': [123.68, 116.779, 103.939],\n",
      " 'mirror': False,\n",
      " 'net_type': 'mobilenet_v2_1.0',\n",
      " 'num_joints': 7,\n",
      " 'optimizer': 'sgd',\n",
      " 'pairwise_huber_loss': True,\n",
      " 'pairwise_predict': False,\n",
      " 'partaffinityfield_predict': False,\n",
      " 'regularize': False,\n",
      " 'scoremap_dir': 'test',\n",
      " 'shuffle': True,\n",
      " 'snapshot_prefix': 'C:\\\\Users\\\\mice\\\\Desktop\\\\combine-video\\\\y79-e8c66d-2024-06-20\\\\dlc-models\\\\iteration-0\\\\y79Jun20-trainset95shuffle1\\\\test\\\\snapshot',\n",
      " 'stride': 8.0,\n",
      " 'weigh_negatives': False,\n",
      " 'weigh_only_present_joints': False,\n",
      " 'weigh_part_predictions': False,\n",
      " 'weight_decay': 0.0001}\n"
     ]
    },
    {
     "name": "stdout",
     "output_type": "stream",
     "text": [
      "Using snapshot-10000 for model C:\\Users\\mice\\Desktop\\combine-video\\y79-e8c66d-2024-06-20\\dlc-models\\iteration-0\\y79Jun20-trainset95shuffle1\n",
      "Starting to analyze %  C:\\Users\\mice\\Desktop\\combine-video\\post\\c99044e43ec651bf_scaled.MOV\n",
      "Loading  C:\\Users\\mice\\Desktop\\combine-video\\post\\c99044e43ec651bf_scaled.MOV\n",
      "Duration of video [s]:  2455.01 , recorded with  240.0 fps!\n",
      "Overall # of frames:  589203  found with (before cropping) frame dimensions:  640 360\n",
      "Starting to extract posture\n"
     ]
    },
    {
     "name": "stderr",
     "output_type": "stream",
     "text": [
      "100%|██████████| 589203/589203 [37:07<00:00, 264.52it/s]\n"
     ]
    },
    {
     "name": "stdout",
     "output_type": "stream",
     "text": [
      "Saving results in C:\\Users\\mice\\Desktop\\combine-video\\post...\n",
      "Saving csv poses!\n"
     ]
    },
    {
     "name": "stderr",
     "output_type": "stream",
     "text": [
      "c:\\Users\\mice\\.conda\\envs\\deeplabcut\\lib\\site-packages\\deeplabcut\\utils\\auxiliaryfunctions.py:402: FutureWarning: Starting with pandas version 3.0 all arguments of to_hdf except for the argument 'path_or_buf' will be keyword-only.\n",
      "  DataMachine.to_hdf(dataname, \"df_with_missing\", format=\"table\", mode=\"w\")\n"
     ]
    },
    {
     "name": "stdout",
     "output_type": "stream",
     "text": [
      "The videos are analyzed. Now your research can truly start! \n",
      " You can create labeled videos with 'create_labeled_video'\n",
      "If the tracking is not satisfactory for some videos, consider expanding the training set. You can use the function 'extract_outlier_frames' to extract a few representative outlier frames.\n"
     ]
    },
    {
     "data": {
      "text/plain": [
       "'DLC_mobnet_100_y79Jun20shuffle1_10000'"
      ]
     },
     "execution_count": 9,
     "metadata": {},
     "output_type": "execute_result"
    }
   ],
   "source": [
    "deeplabcut.analyze_videos(config_path, [r\"C:\\Users\\mice\\Desktop\\combine-video\\post\\c99044e43ec651bf_scaled.MOV\"], save_as_csv=True)"
   ]
  }
 ],
 "metadata": {
  "kernelspec": {
   "display_name": "deeplabcut",
   "language": "python",
   "name": "python3"
  },
  "language_info": {
   "codemirror_mode": {
    "name": "ipython",
    "version": 3
   },
   "file_extension": ".py",
   "mimetype": "text/x-python",
   "name": "python",
   "nbconvert_exporter": "python",
   "pygments_lexer": "ipython3",
   "version": "3.10.13"
  }
 },
 "nbformat": 4,
 "nbformat_minor": 2
}
