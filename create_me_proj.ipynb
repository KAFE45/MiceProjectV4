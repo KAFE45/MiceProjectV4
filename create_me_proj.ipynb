{
 "cells": [
  {
   "cell_type": "code",
   "execution_count": 1,
   "metadata": {},
   "outputs": [
    {
     "name": "stdout",
     "output_type": "stream",
     "text": [
      "Loading DLC 3.0.0rc1...\n"
     ]
    }
   ],
   "source": [
    "import deeplabcut\n",
    "import os\n",
    "from deeplabcut.utils.auxfun_videos import VideoWriter"
   ]
  },
  {
   "cell_type": "code",
   "execution_count": 2,
   "metadata": {},
   "outputs": [
    {
     "name": "stdout",
     "output_type": "stream",
     "text": [
      "Created \"C:\\Users\\mice\\Desktop\\me_proj\\me-y79-7bdc850-2024-06-27\\videos\"\n",
      "Created \"C:\\Users\\mice\\Desktop\\me_proj\\me-y79-7bdc850-2024-06-27\\labeled-data\"\n",
      "Created \"C:\\Users\\mice\\Desktop\\me_proj\\me-y79-7bdc850-2024-06-27\\training-datasets\"\n",
      "Created \"C:\\Users\\mice\\Desktop\\me_proj\\me-y79-7bdc850-2024-06-27\\dlc-models\"\n",
      "Copying the videos\n",
      "C:\\Users\\mice\\Desktop\\me_proj\\me-y79-7bdc850-2024-06-27\\videos\\7bdc8501a020c2d7_scaled.MOV\n",
      "Generated \"C:\\Users\\mice\\Desktop\\me_proj\\me-y79-7bdc850-2024-06-27\\config.yaml\"\n",
      "\n",
      "A new project with name me-y79-7bdc850-2024-06-27 is created at C:\\Users\\mice\\Desktop\\me_proj and a configurable file (config.yaml) is stored there. Change the parameters in this file to adapt to your project's needs.\n",
      " Once you have changed the configuration file, use the function 'extract_frames' to select frames for labeling.\n",
      ". [OPTIONAL] Use the function 'add_new_videos' to add new videos to your project (at any stage).\n"
     ]
    },
    {
     "data": {
      "text/plain": [
       "'C:\\\\Users\\\\mice\\\\Desktop\\\\me_proj\\\\me-y79-7bdc850-2024-06-27\\\\config.yaml'"
      ]
     },
     "execution_count": 2,
     "metadata": {},
     "output_type": "execute_result"
    }
   ],
   "source": [
    "deeplabcut.create_new_project('me-y79', '7bdc850', [r\"C:\\Users\\mice\\Desktop\\me_proj\\_mov\\7bdc8501a020c2d7_scaled.MOV\"], working_directory='./', copy_videos=True, multianimal=False)"
   ]
  },
  {
   "cell_type": "code",
   "execution_count": null,
   "metadata": {},
   "outputs": [],
   "source": [
    "import pandas as pd\n",
    "\n",
    "label_df = pd.open(r'C:\\Users\\mice\\Desktop\\me_proj\\me-y79-7bdc850-2024-06-27\\labeled-data')"
   ]
  }
 ],
 "metadata": {
  "kernelspec": {
   "display_name": "DEEPLABCUT",
   "language": "python",
   "name": "python3"
  },
  "language_info": {
   "codemirror_mode": {
    "name": "ipython",
    "version": 3
   },
   "file_extension": ".py",
   "mimetype": "text/x-python",
   "name": "python",
   "nbconvert_exporter": "python",
   "pygments_lexer": "ipython3",
   "version": "3.10.14"
  }
 },
 "nbformat": 4,
 "nbformat_minor": 2
}
